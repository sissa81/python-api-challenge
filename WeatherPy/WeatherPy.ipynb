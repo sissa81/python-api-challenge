{
 "metadata": {
  "language_info": {
   "codemirror_mode": {
    "name": "ipython",
    "version": 3
   },
   "file_extension": ".py",
   "mimetype": "text/x-python",
   "name": "python",
   "nbconvert_exporter": "python",
   "pygments_lexer": "ipython3",
   "version": "3.6.10"
  },
  "orig_nbformat": 4,
  "kernelspec": {
   "name": "python3",
   "display_name": "Python 3.6.10 64-bit ('PythonData': conda)"
  },
  "interpreter": {
   "hash": "2d9cfea98c24f9fe45dc74017fee9aee343bdf68e5b03f34f00774f8f857f24a"
  }
 },
 "nbformat": 4,
 "nbformat_minor": 2,
 "cells": [
  {
   "source": [
    "WeatherPy"
   ],
   "cell_type": "markdown",
   "metadata": {}
  },
  {
   "cell_type": "code",
   "execution_count": 18,
   "metadata": {},
   "outputs": [],
   "source": [
    "# Dependencies and Setup\n",
    "import numpy as np\n",
    "import pandas as pd\n",
    "import matplotlib.pyplot as plt\n",
    "import requests\n",
    "import time\n",
    "import json\n",
    "from scipy import stats\n",
    "from scipy.stats import linregress\n",
    "\n",
    "# Import API key\n",
    "from api_keys import weather_api\n",
    "\n",
    "# Incorporated citipy to determine city based on latitude and longitude\n",
    "from citipy import citipy\n",
    "\n",
    "# Output File (CSV)\n",
    "output_data_file = \"output_data/cities.csv\"\n",
    "\n",
    "# Range of latitudes and longitudes\n",
    "lat_range = (-90,90)\n",
    "lng_range = (-180, 180)"
   ]
  },
  {
   "source": [
    "Generate Cities List"
   ],
   "cell_type": "markdown",
   "metadata": {}
  },
  {
   "cell_type": "code",
   "execution_count": 19,
   "metadata": {},
   "outputs": [
    {
     "output_type": "execute_result",
     "data": {
      "text/plain": [
       "21"
      ]
     },
     "metadata": {},
     "execution_count": 19
    }
   ],
   "source": [
    "# List for holding lat_lngs and cities\n",
    "lat_lngs = []\n",
    "cities = []\n",
    "\n",
    "# Create a set of random lat an lng combinations\n",
    "lats = np.random.uniform(lat_range[0], lat_range[1], size=25)\n",
    "lngs = np.random.uniform(lng_range[0], lng_range[1], size=25)\n",
    "lat_lngs = zip(lats,lngs)\n",
    "\n",
    "# Identify nearest city for each lat, lng combination\n",
    "for lat_lng in lat_lngs:\n",
    "    city = citipy.nearest_city(lat_lng[0], lat_lng[1]).city_name\n",
    "\n",
    "    # If the city is unique, then add it to a cities list\n",
    "    if city not in cities:\n",
    "        cities.append(city)\n",
    "\n",
    "# Print the city count to confirm sufficient count\n",
    "len(cities)"
   ]
  },
  {
   "source": [
    "Perform API Calls"
   ],
   "cell_type": "markdown",
   "metadata": {}
  },
  {
   "cell_type": "code",
   "execution_count": 20,
   "metadata": {},
   "outputs": [
    {
     "output_type": "stream",
     "name": "stdout",
     "text": [
      "{\n    \"coord\": {\n        \"lon\": 6.477,\n        \"lat\": 50.5295\n    },\n    \"weather\": [\n        {\n            \"id\": 803,\n            \"main\": \"Clouds\",\n            \"description\": \"broken clouds\",\n            \"icon\": \"04d\"\n        }\n    ],\n    \"base\": \"stations\",\n    \"main\": {\n        \"temp\": 53.92,\n        \"feels_like\": 53.58,\n        \"temp_min\": 50.86,\n        \"temp_max\": 58.42,\n        \"pressure\": 1019,\n        \"humidity\": 97,\n        \"sea_level\": 1019,\n        \"grnd_level\": 975\n    },\n    \"visibility\": 10000,\n    \"wind\": {\n        \"speed\": 3.76,\n        \"deg\": 188,\n        \"gust\": 5.08\n    },\n    \"clouds\": {\n        \"all\": 79\n    },\n    \"dt\": 1624684563,\n    \"sys\": {\n        \"type\": 2,\n        \"id\": 2006332,\n        \"country\": \"DE\",\n        \"sunrise\": 1624677818,\n        \"sunset\": 1624737006\n    },\n    \"timezone\": 7200,\n    \"id\": 2838744,\n    \"name\": \"Schleiden\",\n    \"cod\": 200\n}\n"
     ]
    }
   ],
   "source": [
    "# Save url configuration\n",
    "url = \"http://api.openweathermap.org/data/2.5/weather?\"\n",
    "units = \"imperial\"\n",
    "\n",
    "# See API layout\n",
    "test_query = f\"{url}q={city}&appid={weather_api}&units={units}\"\n",
    "test_response = requests.get(test_query)\n",
    "test_json_response = test_response.json()\n",
    "print(json.dumps(test_json_response, indent=4))"
   ]
  },
  {
   "cell_type": "code",
   "execution_count": 25,
   "metadata": {
    "tags": []
   },
   "outputs": [
    {
     "output_type": "stream",
     "name": "stdout",
     "text": [
      "Beginning Data Retrieval\n",
      "-------------------------\n",
      "Processing Record 1: ['Jaciara']\n",
      "Processing Record 2: ['Jaciara', 'Punta Arenas']\n",
      "Processing Record 3: ['Jaciara', 'Punta Arenas', 'Rikitea']\n",
      "Processing Record 4: ['Jaciara', 'Punta Arenas', 'Rikitea', 'Kenai']\n",
      "Processing Record 5: ['Jaciara', 'Punta Arenas', 'Rikitea', 'Kenai', 'Quatre Cocos']\n",
      "Processing Record 6: ['Jaciara', 'Punta Arenas', 'Rikitea', 'Kenai', 'Quatre Cocos', 'Gravdal']\n",
      "Processing Record 7: ['Jaciara', 'Punta Arenas', 'Rikitea', 'Kenai', 'Quatre Cocos', 'Gravdal', 'Olafsvik']\n",
      "Processing Record 8: ['Jaciara', 'Punta Arenas', 'Rikitea', 'Kenai', 'Quatre Cocos', 'Gravdal', 'Olafsvik', 'Bluff']\n",
      "Processing Record 9: ['Jaciara', 'Punta Arenas', 'Rikitea', 'Kenai', 'Quatre Cocos', 'Gravdal', 'Olafsvik', 'Bluff', 'Bredasdorp']\n",
      "Processing Record 10: ['Jaciara', 'Punta Arenas', 'Rikitea', 'Kenai', 'Quatre Cocos', 'Gravdal', 'Olafsvik', 'Bluff', 'Bredasdorp', 'Martinsburg']\n",
      "Processing Record 11: ['Jaciara', 'Punta Arenas', 'Rikitea', 'Kenai', 'Quatre Cocos', 'Gravdal', 'Olafsvik', 'Bluff', 'Bredasdorp', 'Martinsburg', 'Albany']\n",
      "Processing Record 12: ['Jaciara', 'Punta Arenas', 'Rikitea', 'Kenai', 'Quatre Cocos', 'Gravdal', 'Olafsvik', 'Bluff', 'Bredasdorp', 'Martinsburg', 'Albany', 'Wanning']\n",
      "Processing Record 13: ['Jaciara', 'Punta Arenas', 'Rikitea', 'Kenai', 'Quatre Cocos', 'Gravdal', 'Olafsvik', 'Bluff', 'Bredasdorp', 'Martinsburg', 'Albany', 'Wanning', 'Vaini']\n",
      "Processing Record 14: ['Jaciara', 'Punta Arenas', 'Rikitea', 'Kenai', 'Quatre Cocos', 'Gravdal', 'Olafsvik', 'Bluff', 'Bredasdorp', 'Martinsburg', 'Albany', 'Wanning', 'Vaini', 'Egvekinot']\n",
      "Processing Record 15: ['Jaciara', 'Punta Arenas', 'Rikitea', 'Kenai', 'Quatre Cocos', 'Gravdal', 'Olafsvik', 'Bluff', 'Bredasdorp', 'Martinsburg', 'Albany', 'Wanning', 'Vaini', 'Egvekinot', 'Castro']\n",
      "Processing Record 16: ['Jaciara', 'Punta Arenas', 'Rikitea', 'Kenai', 'Quatre Cocos', 'Gravdal', 'Olafsvik', 'Bluff', 'Bredasdorp', 'Martinsburg', 'Albany', 'Wanning', 'Vaini', 'Egvekinot', 'Castro', 'Bereda']\n",
      "Processing Record 17: ['Jaciara', 'Punta Arenas', 'Rikitea', 'Kenai', 'Quatre Cocos', 'Gravdal', 'Olafsvik', 'Bluff', 'Bredasdorp', 'Martinsburg', 'Albany', 'Wanning', 'Vaini', 'Egvekinot', 'Castro', 'Bereda', 'Tazovsky']\n",
      "Processing Record 18: ['Jaciara', 'Punta Arenas', 'Rikitea', 'Kenai', 'Quatre Cocos', 'Gravdal', 'Olafsvik', 'Bluff', 'Bredasdorp', 'Martinsburg', 'Albany', 'Wanning', 'Vaini', 'Egvekinot', 'Castro', 'Bereda', 'Tazovsky', 'Vila do Maio']\n",
      "City not found. Skipping...\n",
      "City not found. Skipping...\n",
      "Processing Record 21: ['Jaciara', 'Punta Arenas', 'Rikitea', 'Kenai', 'Quatre Cocos', 'Gravdal', 'Olafsvik', 'Bluff', 'Bredasdorp', 'Martinsburg', 'Albany', 'Wanning', 'Vaini', 'Egvekinot', 'Castro', 'Bereda', 'Tazovsky', 'Vila do Maio', 'Schleiden']\n",
      "-------------------------\n",
      "Data Retrieval Complete\n",
      "-------------------------\n"
     ]
    }
   ],
   "source": [
    "# Set empty lists to hold Temperature, Humidity, Cloudiness, Wind Speed, & Latitude\n",
    "name = []\n",
    "number = []\n",
    "temp = []\n",
    "humid = []\n",
    "cloud = []\n",
    "wind = []\n",
    "lat = []\n",
    "\n",
    "# Create starting point for record count\n",
    "record_count = 0\n",
    "\n",
    "# Print beginning text\n",
    "print(f\"Beginning Data Retrieval\")\n",
    "print(f\"-------------------------\")\n",
    "\n",
    "\n",
    "# Loop through each city\n",
    "for city in cities:\n",
    "\n",
    "    # Create search query, make reqeust and store in json\n",
    "    query_url = f\"{url}q={city}&appid={weather_api}&units={units}\"\n",
    "    response = requests.get(query_url)\n",
    "    json_response = response.json()\n",
    "    record_count = record_count + 1\n",
    "\n",
    "    # Try to grab data if available in API\n",
    "    try:\n",
    "        name.append(json_response[\"name\"])\n",
    "        number.append(json_response[\"id\"])\n",
    "        temp.append(json_response[\"main\"][\"temp\"])\n",
    "        humid.append(json_response[\"main\"][\"humidity\"])\n",
    "        cloud.append(json_response[\"clouds\"][\"all\"])\n",
    "        wind.append(json_response[\"wind\"][\"speed\"])\n",
    "        lat.append(json_response[\"coord\"][\"lat\"])               \n",
    "        print(f\"Processing Record {record_count}: {name}\")\n",
    "    \n",
    "        \n",
    "\n",
    "    # Handle exceptions for a city that is not available in SPI\n",
    "    except:\n",
    "        # Append null values\n",
    "        print(\"City not found. Skipping...\")\n",
    "        pass\n",
    "\n",
    "print(f\"-------------------------\")\n",
    "print(f\"Data Retrieval Complete\")\n",
    "print(f\"-------------------------\")"
   ]
  },
  {
   "cell_type": "code",
   "execution_count": 28,
   "metadata": {},
   "outputs": [
    {
     "output_type": "execute_result",
     "data": {
      "text/plain": [
       "           City  City ID  Temperature  Humidity  Cloudiness  Wind Speed  \\\n",
       "0       Jaciara  3460355        67.03        49           4        2.37   \n",
       "1  Punta Arenas  3874787        33.91        86           0       12.66   \n",
       "2       Rikitea  4030556        74.39        72          22        4.41   \n",
       "3         Kenai  5866063        52.30        75          90        6.91   \n",
       "4  Quatre Cocos  1106643        69.10        81          85       13.11   \n",
       "\n",
       "   Latitude  \n",
       "0  -15.9653  \n",
       "1  -53.1500  \n",
       "2  -23.1203  \n",
       "3   60.5544  \n",
       "4  -20.2078  "
      ],
      "text/html": "<div>\n<style scoped>\n    .dataframe tbody tr th:only-of-type {\n        vertical-align: middle;\n    }\n\n    .dataframe tbody tr th {\n        vertical-align: top;\n    }\n\n    .dataframe thead th {\n        text-align: right;\n    }\n</style>\n<table border=\"1\" class=\"dataframe\">\n  <thead>\n    <tr style=\"text-align: right;\">\n      <th></th>\n      <th>City</th>\n      <th>City ID</th>\n      <th>Temperature</th>\n      <th>Humidity</th>\n      <th>Cloudiness</th>\n      <th>Wind Speed</th>\n      <th>Latitude</th>\n    </tr>\n  </thead>\n  <tbody>\n    <tr>\n      <th>0</th>\n      <td>Jaciara</td>\n      <td>3460355</td>\n      <td>67.03</td>\n      <td>49</td>\n      <td>4</td>\n      <td>2.37</td>\n      <td>-15.9653</td>\n    </tr>\n    <tr>\n      <th>1</th>\n      <td>Punta Arenas</td>\n      <td>3874787</td>\n      <td>33.91</td>\n      <td>86</td>\n      <td>0</td>\n      <td>12.66</td>\n      <td>-53.1500</td>\n    </tr>\n    <tr>\n      <th>2</th>\n      <td>Rikitea</td>\n      <td>4030556</td>\n      <td>74.39</td>\n      <td>72</td>\n      <td>22</td>\n      <td>4.41</td>\n      <td>-23.1203</td>\n    </tr>\n    <tr>\n      <th>3</th>\n      <td>Kenai</td>\n      <td>5866063</td>\n      <td>52.30</td>\n      <td>75</td>\n      <td>90</td>\n      <td>6.91</td>\n      <td>60.5544</td>\n    </tr>\n    <tr>\n      <th>4</th>\n      <td>Quatre Cocos</td>\n      <td>1106643</td>\n      <td>69.10</td>\n      <td>81</td>\n      <td>85</td>\n      <td>13.11</td>\n      <td>-20.2078</td>\n    </tr>\n  </tbody>\n</table>\n</div>"
     },
     "metadata": {},
     "execution_count": 28
    }
   ],
   "source": [
    "new_df = pd.DataFrame({\"City\": name, \"City ID\": number, \"Temperature\": temp, \"Humidity\": humid, \"Cloudiness\": cloud, \"Wind Speed\": wind, \"Latitude\": lat})\n",
    "new_df.head()"
   ]
  },
  {
   "cell_type": "code",
   "execution_count": null,
   "metadata": {},
   "outputs": [],
   "source": []
  }
 ]
}