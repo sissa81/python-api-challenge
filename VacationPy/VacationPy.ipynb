{
 "cells": [
  {
   "cell_type": "markdown",
   "metadata": {},
   "source": [
    "# VacationPy\n",
    "----\n",
    "\n",
    "#### Note\n",
    "* Keep an eye on your API usage. Use https://developers.google.com/maps/reporting/gmp-reporting as reference for how to monitor your usage and billing.\n",
    "\n",
    "* Instructions have been included for each segment. You do not have to follow them exactly, but they are included to help you think through the steps."
   ]
  },
  {
   "cell_type": "code",
   "execution_count": 11,
   "metadata": {},
   "outputs": [],
   "source": [
    "# Dependencies and Setup\n",
    "import matplotlib.pyplot as plt\n",
    "import pandas as pd\n",
    "import numpy as np\n",
    "import requests\n",
    "import gmaps\n",
    "import os\n",
    "import json\n",
    "import warnings\n",
    "\n",
    "# Import API key\n",
    "from api_keys import g_key\n"
   ]
  },
  {
   "cell_type": "markdown",
   "metadata": {},
   "source": [
    "### Store Part I results into DataFrame\n",
    "* Load the csv exported in Part I to a DataFrame"
   ]
  },
  {
   "cell_type": "code",
   "execution_count": 12,
   "metadata": {},
   "outputs": [
    {
     "output_type": "execute_result",
     "data": {
      "text/plain": [
       "   Unnamed: 0             City  Latitude  Longitude  Max Temperature  \\\n",
       "0           0  Yangi Marg`ilon   40.4272    71.7189            69.22   \n",
       "1           1       Hambantota    6.1241    81.1185            75.54   \n",
       "2           2  Fort-Shevchenko   44.5086    50.2630            85.33   \n",
       "3           3          Bintulu    3.1667   113.0333            75.61   \n",
       "4           4            Vaini  -21.2000  -175.2000            75.36   \n",
       "\n",
       "   Humidity  Cloudiness  Wind Speed Country                 Date  \n",
       "0        37           4        6.91      UZ  2021-06-27 00:51:15  \n",
       "1       100          20        5.75      LK  2021-06-27 00:51:16  \n",
       "2        39          98       14.27      KZ  2021-06-27 00:51:16  \n",
       "3       100          40        3.44      MY  2021-06-27 00:51:17  \n",
       "4        73          20       13.80      TO  2021-06-27 00:51:17  "
      ],
      "text/html": "<div>\n<style scoped>\n    .dataframe tbody tr th:only-of-type {\n        vertical-align: middle;\n    }\n\n    .dataframe tbody tr th {\n        vertical-align: top;\n    }\n\n    .dataframe thead th {\n        text-align: right;\n    }\n</style>\n<table border=\"1\" class=\"dataframe\">\n  <thead>\n    <tr style=\"text-align: right;\">\n      <th></th>\n      <th>Unnamed: 0</th>\n      <th>City</th>\n      <th>Latitude</th>\n      <th>Longitude</th>\n      <th>Max Temperature</th>\n      <th>Humidity</th>\n      <th>Cloudiness</th>\n      <th>Wind Speed</th>\n      <th>Country</th>\n      <th>Date</th>\n    </tr>\n  </thead>\n  <tbody>\n    <tr>\n      <th>0</th>\n      <td>0</td>\n      <td>Yangi Marg`ilon</td>\n      <td>40.4272</td>\n      <td>71.7189</td>\n      <td>69.22</td>\n      <td>37</td>\n      <td>4</td>\n      <td>6.91</td>\n      <td>UZ</td>\n      <td>2021-06-27 00:51:15</td>\n    </tr>\n    <tr>\n      <th>1</th>\n      <td>1</td>\n      <td>Hambantota</td>\n      <td>6.1241</td>\n      <td>81.1185</td>\n      <td>75.54</td>\n      <td>100</td>\n      <td>20</td>\n      <td>5.75</td>\n      <td>LK</td>\n      <td>2021-06-27 00:51:16</td>\n    </tr>\n    <tr>\n      <th>2</th>\n      <td>2</td>\n      <td>Fort-Shevchenko</td>\n      <td>44.5086</td>\n      <td>50.2630</td>\n      <td>85.33</td>\n      <td>39</td>\n      <td>98</td>\n      <td>14.27</td>\n      <td>KZ</td>\n      <td>2021-06-27 00:51:16</td>\n    </tr>\n    <tr>\n      <th>3</th>\n      <td>3</td>\n      <td>Bintulu</td>\n      <td>3.1667</td>\n      <td>113.0333</td>\n      <td>75.61</td>\n      <td>100</td>\n      <td>40</td>\n      <td>3.44</td>\n      <td>MY</td>\n      <td>2021-06-27 00:51:17</td>\n    </tr>\n    <tr>\n      <th>4</th>\n      <td>4</td>\n      <td>Vaini</td>\n      <td>-21.2000</td>\n      <td>-175.2000</td>\n      <td>75.36</td>\n      <td>73</td>\n      <td>20</td>\n      <td>13.80</td>\n      <td>TO</td>\n      <td>2021-06-27 00:51:17</td>\n    </tr>\n  </tbody>\n</table>\n</div>"
     },
     "metadata": {},
     "execution_count": 12
    }
   ],
   "source": [
    "# Read to csv and preview\n",
    "output_data_file = \"../WeatherPy/output_data/clean_weather.csv\"\n",
    "vacation_df = pd.read_csv(output_data_file)\n",
    "vacation_df.head()"
   ]
  },
  {
   "cell_type": "markdown",
   "metadata": {},
   "source": [
    "### Humidity Heatmap\n",
    "* Configure gmaps.\n",
    "* Use the Lat and Lng as locations and Humidity as the weight.\n",
    "* Add Heatmap layer to map."
   ]
  },
  {
   "cell_type": "code",
   "execution_count": 13,
   "metadata": {},
   "outputs": [],
   "source": [
    "# Configure gmaps\n",
    "gmaps.configure(api_key=g_key)\n",
    "locations = vacation_df[[\"Latitude\", \"Longitude\"]]\n",
    "humdiity = vacation_df[\"Humidity\"].astype(float)"
   ]
  },
  {
   "cell_type": "code",
   "execution_count": 4,
   "metadata": {},
   "outputs": [
    {
     "output_type": "display_data",
     "data": {
      "text/plain": "Figure(layout=FigureLayout(height='420px'))",
      "application/vnd.jupyter.widget-view+json": {
       "version_major": 2,
       "version_minor": 0,
       "model_id": "b8b69c81f849466ea68a981ada220a46"
      }
     },
     "metadata": {}
    }
   ],
   "source": [
    "# Plot Heatmap\n",
    "fig = gmaps.figure()\n",
    "\n",
    "# Create heat layer\n",
    "heat_layer = gmaps.heatmap_layer(locations, weights=humdiity, dissipating=False, max_intensity=100, point_radius=1)\n",
    "\n",
    "# Add Layer\n",
    "fig.add_layer(heat_layer)\n",
    "\n",
    "# Display\n",
    "fig"
   ]
  },
  {
   "cell_type": "markdown",
   "metadata": {},
   "source": [
    "### Create new DataFrame fitting weather criteria\n",
    "* Narrow down the cities to fit weather conditions.\n",
    "* Drop any rows will null values."
   ]
  },
  {
   "cell_type": "code",
   "execution_count": 14,
   "metadata": {},
   "outputs": [
    {
     "output_type": "execute_result",
     "data": {
      "text/plain": [
       "     Unnamed: 0        City  Latitude  Longitude  Max Temperature  Humidity  \\\n",
       "62           62    Manicoré   -5.8092   -61.3003            76.95        94   \n",
       "84           84      Trairi   -3.2778   -39.2689            74.50        85   \n",
       "249         249    Trindade  -16.6494   -49.4889            73.15        43   \n",
       "336         336      Murgab   37.4966    61.9714            71.47        43   \n",
       "360         360  Abu Samrah   35.3029    37.1841            75.25        53   \n",
       "410         410  Alexandria   31.2156    29.9553            76.96        88   \n",
       "501         501      Olinda   -8.0089   -34.8553            71.33        73   \n",
       "\n",
       "     Cloudiness  Wind Speed Country                 Date  \n",
       "62            0        1.14      BR  2021-06-27 00:46:50  \n",
       "84            0        3.36      BR  2021-06-27 00:47:17  \n",
       "249           0        6.51      BR  2021-06-27 00:53:32  \n",
       "336           0        4.61      TM  2021-06-27 00:54:12  \n",
       "360           0        6.29      SY  2021-06-27 00:54:24  \n",
       "410           0        9.22      EG  2021-06-27 00:54:05  \n",
       "501           0        9.22      BR  2021-06-27 00:55:31  "
      ],
      "text/html": "<div>\n<style scoped>\n    .dataframe tbody tr th:only-of-type {\n        vertical-align: middle;\n    }\n\n    .dataframe tbody tr th {\n        vertical-align: top;\n    }\n\n    .dataframe thead th {\n        text-align: right;\n    }\n</style>\n<table border=\"1\" class=\"dataframe\">\n  <thead>\n    <tr style=\"text-align: right;\">\n      <th></th>\n      <th>Unnamed: 0</th>\n      <th>City</th>\n      <th>Latitude</th>\n      <th>Longitude</th>\n      <th>Max Temperature</th>\n      <th>Humidity</th>\n      <th>Cloudiness</th>\n      <th>Wind Speed</th>\n      <th>Country</th>\n      <th>Date</th>\n    </tr>\n  </thead>\n  <tbody>\n    <tr>\n      <th>62</th>\n      <td>62</td>\n      <td>Manicoré</td>\n      <td>-5.8092</td>\n      <td>-61.3003</td>\n      <td>76.95</td>\n      <td>94</td>\n      <td>0</td>\n      <td>1.14</td>\n      <td>BR</td>\n      <td>2021-06-27 00:46:50</td>\n    </tr>\n    <tr>\n      <th>84</th>\n      <td>84</td>\n      <td>Trairi</td>\n      <td>-3.2778</td>\n      <td>-39.2689</td>\n      <td>74.50</td>\n      <td>85</td>\n      <td>0</td>\n      <td>3.36</td>\n      <td>BR</td>\n      <td>2021-06-27 00:47:17</td>\n    </tr>\n    <tr>\n      <th>249</th>\n      <td>249</td>\n      <td>Trindade</td>\n      <td>-16.6494</td>\n      <td>-49.4889</td>\n      <td>73.15</td>\n      <td>43</td>\n      <td>0</td>\n      <td>6.51</td>\n      <td>BR</td>\n      <td>2021-06-27 00:53:32</td>\n    </tr>\n    <tr>\n      <th>336</th>\n      <td>336</td>\n      <td>Murgab</td>\n      <td>37.4966</td>\n      <td>61.9714</td>\n      <td>71.47</td>\n      <td>43</td>\n      <td>0</td>\n      <td>4.61</td>\n      <td>TM</td>\n      <td>2021-06-27 00:54:12</td>\n    </tr>\n    <tr>\n      <th>360</th>\n      <td>360</td>\n      <td>Abu Samrah</td>\n      <td>35.3029</td>\n      <td>37.1841</td>\n      <td>75.25</td>\n      <td>53</td>\n      <td>0</td>\n      <td>6.29</td>\n      <td>SY</td>\n      <td>2021-06-27 00:54:24</td>\n    </tr>\n    <tr>\n      <th>410</th>\n      <td>410</td>\n      <td>Alexandria</td>\n      <td>31.2156</td>\n      <td>29.9553</td>\n      <td>76.96</td>\n      <td>88</td>\n      <td>0</td>\n      <td>9.22</td>\n      <td>EG</td>\n      <td>2021-06-27 00:54:05</td>\n    </tr>\n    <tr>\n      <th>501</th>\n      <td>501</td>\n      <td>Olinda</td>\n      <td>-8.0089</td>\n      <td>-34.8553</td>\n      <td>71.33</td>\n      <td>73</td>\n      <td>0</td>\n      <td>9.22</td>\n      <td>BR</td>\n      <td>2021-06-27 00:55:31</td>\n    </tr>\n  </tbody>\n</table>\n</div>"
     },
     "metadata": {},
     "execution_count": 14
    }
   ],
   "source": [
    "ideal_df = vacation_df.loc[(vacation_df[\"Max Temperature\"]<80) & (vacation_df[\"Max Temperature\"]>70) & (vacation_df[\"Wind Speed\"]<10) & (vacation_df[\"Cloudiness\"]==0)]\n",
    "ideal_df"
   ]
  },
  {
   "cell_type": "markdown",
   "metadata": {},
   "source": [
    "### Hotel Map\n",
    "* Store into variable named `hotel_df`.\n",
    "* Add a \"Hotel Name\" column to the DataFrame.\n",
    "* Set parameters to search for hotels with 5000 meters.\n",
    "* Hit the Google Places API for each city's coordinates.\n",
    "* Store the first Hotel result into the DataFrame.\n",
    "* Plot markers on top of the heatmap."
   ]
  },
  {
   "cell_type": "code",
   "execution_count": 15,
   "metadata": {},
   "outputs": [
    {
     "output_type": "stream",
     "name": "stdout",
     "text": [
      "Missing field/result... skipping.\n",
      "Missing field/result... skipping.\n",
      "Missing field/result... skipping.\n",
      "Missing field/result... skipping.\n",
      "Missing field/result... skipping.\n",
      "Missing field/result... skipping.\n",
      "Missing field/result... skipping.\n"
     ]
    }
   ],
   "source": [
    "# Create new hotel dataframe with new column for Hotel Name\n",
    "hotel_df = ideal_df.loc[:,[\"City\", \"Latitude\", \"Longitude\", \"Max Temperature\", \"Humidity\", \"Cloudiness\", \"Wind Speed\", \"Country\"]]\n",
    "hotel_df[\"Hotel Name\"] = \"\"\n",
    "hotel_df.head()\n",
    "\n",
    "# Set parameters to search for hotels w/in 5000 meters\n",
    "params = {\"radius\": 5000, \"types\": \"lodging\", \"key\": g_key}\n",
    "\n",
    "# Use the lat/lng to identify hotels\n",
    "for index, row in hotel_df.iterrows():\n",
    "    lat = row[\"Latitude\"]\n",
    "    lng = row[\"Longitude\"]\n",
    "    \n",
    "    # Change location eah iteation while leaving original params in place\n",
    "    params[\"location\"] = f\"{lat},{lng}\"\n",
    "\n",
    "    # Use the serach term: \n",
    "    base_url = \"https://maps.googleapis.com/maps/api/place/nearbysearch/json\"\n",
    "\n",
    "    # Make a reqeust\n",
    "    response = requests.get(base_url, params=params)\n",
    "    # print(response.url)\n",
    "\n",
    "    # Convert to json\n",
    "    json_response = response.json()\n",
    "    \n",
    "    try:\n",
    "        hotel_df.loc[index, \"Hotel Name\"] = json_response[0][\"name\"]\n",
    "    except (KeyError, IndexError):\n",
    "        print(\"Missing field/result... skipping.\")\n",
    "\n",
    "\n",
    "# My Google API key is not working. I created a new one that I left unrestricted just to make sure. I printed the URL and it says I'm not authorized to use that API (which matches the file I've saved) even though I made sure it wasn't restricted. Someone else in class also had this issue so I don't know if it's Google or us."
   ]
  },
  {
   "cell_type": "code",
   "execution_count": 16,
   "metadata": {},
   "outputs": [
    {
     "output_type": "execute_result",
     "data": {
      "text/plain": [
       "           City  Latitude  Longitude  Max Temperature  Humidity  Cloudiness  \\\n",
       "62     Manicoré   -5.8092   -61.3003            76.95        94           0   \n",
       "84       Trairi   -3.2778   -39.2689            74.50        85           0   \n",
       "249    Trindade  -16.6494   -49.4889            73.15        43           0   \n",
       "336      Murgab   37.4966    61.9714            71.47        43           0   \n",
       "360  Abu Samrah   35.3029    37.1841            75.25        53           0   \n",
       "410  Alexandria   31.2156    29.9553            76.96        88           0   \n",
       "501      Olinda   -8.0089   -34.8553            71.33        73           0   \n",
       "\n",
       "     Wind Speed Country Hotel Name  \n",
       "62         1.14      BR             \n",
       "84         3.36      BR             \n",
       "249        6.51      BR             \n",
       "336        4.61      TM             \n",
       "360        6.29      SY             \n",
       "410        9.22      EG             \n",
       "501        9.22      BR             "
      ],
      "text/html": "<div>\n<style scoped>\n    .dataframe tbody tr th:only-of-type {\n        vertical-align: middle;\n    }\n\n    .dataframe tbody tr th {\n        vertical-align: top;\n    }\n\n    .dataframe thead th {\n        text-align: right;\n    }\n</style>\n<table border=\"1\" class=\"dataframe\">\n  <thead>\n    <tr style=\"text-align: right;\">\n      <th></th>\n      <th>City</th>\n      <th>Latitude</th>\n      <th>Longitude</th>\n      <th>Max Temperature</th>\n      <th>Humidity</th>\n      <th>Cloudiness</th>\n      <th>Wind Speed</th>\n      <th>Country</th>\n      <th>Hotel Name</th>\n    </tr>\n  </thead>\n  <tbody>\n    <tr>\n      <th>62</th>\n      <td>Manicoré</td>\n      <td>-5.8092</td>\n      <td>-61.3003</td>\n      <td>76.95</td>\n      <td>94</td>\n      <td>0</td>\n      <td>1.14</td>\n      <td>BR</td>\n      <td></td>\n    </tr>\n    <tr>\n      <th>84</th>\n      <td>Trairi</td>\n      <td>-3.2778</td>\n      <td>-39.2689</td>\n      <td>74.50</td>\n      <td>85</td>\n      <td>0</td>\n      <td>3.36</td>\n      <td>BR</td>\n      <td></td>\n    </tr>\n    <tr>\n      <th>249</th>\n      <td>Trindade</td>\n      <td>-16.6494</td>\n      <td>-49.4889</td>\n      <td>73.15</td>\n      <td>43</td>\n      <td>0</td>\n      <td>6.51</td>\n      <td>BR</td>\n      <td></td>\n    </tr>\n    <tr>\n      <th>336</th>\n      <td>Murgab</td>\n      <td>37.4966</td>\n      <td>61.9714</td>\n      <td>71.47</td>\n      <td>43</td>\n      <td>0</td>\n      <td>4.61</td>\n      <td>TM</td>\n      <td></td>\n    </tr>\n    <tr>\n      <th>360</th>\n      <td>Abu Samrah</td>\n      <td>35.3029</td>\n      <td>37.1841</td>\n      <td>75.25</td>\n      <td>53</td>\n      <td>0</td>\n      <td>6.29</td>\n      <td>SY</td>\n      <td></td>\n    </tr>\n    <tr>\n      <th>410</th>\n      <td>Alexandria</td>\n      <td>31.2156</td>\n      <td>29.9553</td>\n      <td>76.96</td>\n      <td>88</td>\n      <td>0</td>\n      <td>9.22</td>\n      <td>EG</td>\n      <td></td>\n    </tr>\n    <tr>\n      <th>501</th>\n      <td>Olinda</td>\n      <td>-8.0089</td>\n      <td>-34.8553</td>\n      <td>71.33</td>\n      <td>73</td>\n      <td>0</td>\n      <td>9.22</td>\n      <td>BR</td>\n      <td></td>\n    </tr>\n  </tbody>\n</table>\n</div>"
     },
     "metadata": {},
     "execution_count": 16
    }
   ],
   "source": [
    "# Show hotel_df even though hotel names were not added\n",
    "hotel_df"
   ]
  },
  {
   "cell_type": "code",
   "execution_count": 17,
   "metadata": {},
   "outputs": [],
   "source": [
    "# NOTE: Do not change any of the code in this cell\n",
    "\n",
    "# Using the template add the hotel marks to the heatmap\n",
    "info_box_template = \"\"\"\n",
    "<dl>\n",
    "<dt>Name</dt><dd>{Hotel Name}</dd>\n",
    "<dt>City</dt><dd>{City}</dd>\n",
    "<dt>Country</dt><dd>{Country}</dd>\n",
    "</dl>\n",
    "\"\"\"\n",
    "# Store the DataFrame Row\n",
    "# NOTE: be sure to update with your DataFrame name\n",
    "hotel_info = [info_box_template.format(**row) for index, row in hotel_df.iterrows()]\n",
    "locations = hotel_df[[\"Latitude\", \"Longitude\"]]"
   ]
  },
  {
   "cell_type": "code",
   "execution_count": 18,
   "metadata": {},
   "outputs": [
    {
     "output_type": "display_data",
     "data": {
      "text/plain": "Figure(layout=FigureLayout(height='420px'))",
      "application/vnd.jupyter.widget-view+json": {
       "version_major": 2,
       "version_minor": 0,
       "model_id": "b8b69c81f849466ea68a981ada220a46"
      }
     },
     "metadata": {}
    }
   ],
   "source": [
    "# Add marker layer ontop of heat map\n",
    "markers = gmaps.marker_layer(locations)\n",
    "fig.add_layer(markers)\n",
    "# Display figure\n",
    "fig\n",
    "\n",
    "# I've checked and double checked my API. I even created a new one that was unrestricted and then waited several hours to make sure it was activated. Still does not work. Someone else had problems as well, not sure if it's us or Google."
   ]
  },
  {
   "cell_type": "code",
   "execution_count": null,
   "metadata": {},
   "outputs": [],
   "source": []
  }
 ],
 "metadata": {
  "kernelspec": {
   "name": "python3",
   "display_name": "Python 3.6.10 64-bit ('PythonData': conda)"
  },
  "language_info": {
   "codemirror_mode": {
    "name": "ipython",
    "version": 3
   },
   "file_extension": ".py",
   "mimetype": "text/x-python",
   "name": "python",
   "nbconvert_exporter": "python",
   "pygments_lexer": "ipython3",
   "version": "3.6.10"
  },
  "latex_envs": {
   "LaTeX_envs_menu_present": true,
   "autoclose": false,
   "autocomplete": true,
   "bibliofile": "biblio.bib",
   "cite_by": "apalike",
   "current_citInitial": 1,
   "eqLabelWithNumbers": true,
   "eqNumInitial": 1,
   "hotkeys": {
    "equation": "Ctrl-E",
    "itemize": "Ctrl-I"
   },
   "labels_anchors": false,
   "latex_user_defs": false,
   "report_style_numbering": false,
   "user_envs_cfg": false
  },
  "interpreter": {
   "hash": "2d9cfea98c24f9fe45dc74017fee9aee343bdf68e5b03f34f00774f8f857f24a"
  }
 },
 "nbformat": 4,
 "nbformat_minor": 4
}